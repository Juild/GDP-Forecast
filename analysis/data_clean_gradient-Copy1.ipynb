{
 "cells": [
  {
   "cell_type": "code",
   "execution_count": null,
   "metadata": {},
   "outputs": [],
   "source": [
    "### IMPORT ESSENTIAL LIBRARIES\n",
    "\n",
    "import pandas as pd\n",
    "import numpy as np\n",
    "import time\n",
    "import sys\n",
    "sys.path.append(\"..\") "
   ]
  },
  {
   "cell_type": "code",
   "execution_count": null,
   "metadata": {},
   "outputs": [],
   "source": [
    "#importing from sql file\n",
    "import sqlite3\n",
    "connection = sqlite3.connect(\"../db.sqlite3\")\n",
    "crsr = connection.cursor() \n",
    "crsr.execute(\"SELECT * FROM CountryIndicators\")  \n",
    "ans = crsr.fetchall()"
   ]
  },
  {
   "cell_type": "code",
   "execution_count": null,
   "metadata": {},
   "outputs": [],
   "source": [
    "#Creating dataframe\n",
    "df = pd.DataFrame(ans, columns=[\"CountryCode\", \"IndicatorCode\", \"Year\", \"Value\" ])"
   ]
  },
  {
   "cell_type": "code",
   "execution_count": null,
   "metadata": {},
   "outputs": [],
   "source": [
    "#looping all countries \n",
    "countries = df['CountryCode'].unique().tolist()\n",
    "country_NON_GDP = [\"ASM\", \"CUW\", \"FRO\", \"GUM\", \"PRK\", \"MNP\", \"SXM\", \"MAF\", \"TCA\"]\n",
    "for n in country_NON_GDP: \n",
    "    countries.remove(n)\n",
    "countries"
   ]
  },
  {
   "cell_type": "code",
   "execution_count": null,
   "metadata": {},
   "outputs": [],
   "source": [
    "indicators = df['IndicatorCode'].unique()"
   ]
  },
  {
   "cell_type": "code",
   "execution_count": null,
   "metadata": {},
   "outputs": [],
   "source": [
    "len(indicators)"
   ]
  },
  {
   "cell_type": "code",
   "execution_count": null,
   "metadata": {},
   "outputs": [],
   "source": [
    "#Creating a dictionary with all countries and looping it  \n",
    "d = {}\n",
    "for name in countries:\n",
    "    d[name] = df.loc[df['CountryCode'] == name] \n",
    "    print(name)\n",
    "d['ARB']"
   ]
  },
  {
   "cell_type": "code",
   "execution_count": null,
   "metadata": {},
   "outputs": [],
   "source": [
    "d['ARB']['CountryCode'][1]"
   ]
  },
  {
   "cell_type": "code",
   "execution_count": null,
   "metadata": {},
   "outputs": [],
   "source": [
    "from functools import reduce\n",
    "#Creation of a dataframe of year \n",
    "data_years = pd.DataFrame(range(1960,2011), columns = ['Year'])\n",
    "#to initialize df as data_years\n",
    "df_final = data_years\n",
    "#We want a dictionary of dictionaries from each country \n",
    "dcountries = {}\n",
    "#to create an auxuliar dataframe\n",
    "df_auxiliar = pd.DataFrame(columns = indicators)\n",
    "Years = [\"Year\"]\n",
    "CountryName = [\"CountryName\"]\n",
    "df_aux = pd.DataFrame(columns = Years)\n",
    "df_aux = pd.concat([df_aux, df_auxiliar], axis=1, join='inner')\n",
    "df_aux.set_index('Year', inplace=True)\n",
    "s = time.time()\n",
    "for c in countries: \n",
    "    dcountries[c] = {}\n",
    "for c in countries: \n",
    "        for names in indicators: # it would be the indicators\n",
    "            dcountries[c][names] = d[c].loc[d[c]['IndicatorCode'] == names]\n",
    "            dcountries[c][names] = dcountries[c][names].rename(columns = {'Value': '{}_val'.format(names),'IndicatorCode': '{}'.format(names) }) #to convert variables into strings\n",
    "            df_final = reduce(lambda left,right: pd.merge(left,right,on='Year', how = 'outer'), [df_final, dcountries[c][names]]) #to merge de df \n",
    "            df_final = df_final[df_final.columns[pd.Series(df_final.columns).str.contains(\"Year|val\")]]   #we choose the right variables\n",
    "            df_final.set_index('Year', inplace=True) #to change the index preparaing the df like the model's example\n",
    "            #print(names)\n",
    "        \n",
    "        df_final = reduce(lambda left,right: pd.merge(left,right,on='Year', how = 'outer'), [df_final, GDP_next_year(c)])\n",
    "        CountryName = {'Country_name' : ([c]*51) ,'Year' : range(1960,2011)}\n",
    "        df_country = pd.DataFrame(CountryName, columns = ['Country_name' ,'Year'])\n",
    "        df_country.set_index('Year', inplace=True)\n",
    "        df_final = pd.merge(df_country, df_final, on = 'Year', how = 'outer')\n",
    "        df_final.to_csv(\"df_country_gradient/{}.csv\".format(c))\n",
    "        # TO ADD A COLUMS WHICH INIDCATES DE COUNTRY (C)\n",
    "        df_aux = pd.concat([df_final,df_aux], ignore_index=False, sort=False) #change ignore_index \n",
    "        df_final = data_years\n",
    "df_aux.sort_values(\"Year\").to_csv(\"df_country_gradient/df_final.csv\")"
   ]
  },
  {
   "cell_type": "code",
   "execution_count": null,
   "metadata": {},
   "outputs": [],
   "source": [
    "c = 'ARB'\n",
    "names = 'NY.GDP.MKTP.KD.ZG'\n",
    "df_years_2011 = pd.DataFrame(range(1959,2010), columns = ['Year'])\n",
    "data_years = pd.DataFrame(range(1960,2011), columns = ['Year'])\n",
    "df_final = data_years\n",
    "\n",
    "dcountries[c][names] = d[c].loc[d[c]['IndicatorCode'] == names]\n",
    "dcountries[c][names] = dcountries[c][names].rename(columns = {'Value': '{}_val'.format(names),'IndicatorCode': '{}'.format(names) }) #to convert variables into strings\n",
    "df_final = reduce(lambda left,right: pd.merge(left,right,on='Year', how = 'outer'), [df_final, dcountries[c][names]]) #to merge de df \n",
    "df_final = df_final[df_final.columns[pd.Series(df_final.columns).str.contains(\"Year|val\")]]   #we choose the right variables\n",
    "df_final = df_final.drop([0])\n",
    "df_final['Year'] = df_years_2011['Year'] \n",
    "df_final.set_index('Year', inplace=True) #to change the index preparaing the df like the model's example\n",
    "df_final"
   ]
  },
  {
   "cell_type": "code",
   "execution_count": null,
   "metadata": {},
   "outputs": [],
   "source": []
  },
  {
   "cell_type": "code",
   "execution_count": null,
   "metadata": {},
   "outputs": [],
   "source": [
    "def GDP_next_year(c): \n",
    "    names = 'NY.GDP.MKTP.KD.ZG'\n",
    "    df_years_2011 = pd.DataFrame(range(1959,2010), columns = ['Year'])\n",
    "    data_years = pd.DataFrame(range(1960,2011), columns = ['Year'])\n",
    "    df_final = data_years\n",
    "\n",
    "    dcountries[c][names] = d[c].loc[d[c]['IndicatorCode'] == names]\n",
    "    dcountries[c][names] = dcountries[c][names].rename(columns = {'Value': '{}_val_next_year'.format(names),'IndicatorCode': '{}'.format(names) }) #to convert variables into strings\n",
    "    df_final = reduce(lambda left,right: pd.merge(left,right,on='Year', how = 'outer'), [df_final, dcountries[c][names]]) #to merge de df \n",
    "    df_final = df_final[df_final.columns[pd.Series(df_final.columns).str.contains(\"Year|val\")]]   #we choose the right variables\n",
    "    df_final = df_final.drop([0])\n",
    "    df_final['Year'] = df_years_2011['Year'] \n",
    "    df_final.set_index('Year', inplace=True) #to change the index preparaing the df like the model's example\n",
    "    return df_final"
   ]
  },
  {
   "cell_type": "code",
   "execution_count": null,
   "metadata": {},
   "outputs": [],
   "source": [
    "GDP_next_year('ARB')"
   ]
  },
  {
   "cell_type": "code",
   "execution_count": null,
   "metadata": {},
   "outputs": [],
   "source": []
  }
 ],
 "metadata": {
  "kernelspec": {
   "name": "python3",
   "display_name": "Python 3.8.2 64-bit",
   "metadata": {
    "interpreter": {
     "hash": "5edc29c2ed010d6458d71a83433b383a96a8cbd3efe8531bc90c4b8a5b8bcec9"
    }
   }
  },
  "language_info": {
   "codemirror_mode": {
    "name": "ipython",
    "version": 3
   },
   "file_extension": ".py",
   "mimetype": "text/x-python",
   "name": "python",
   "nbconvert_exporter": "python",
   "pygments_lexer": "ipython3",
   "version": "3.8.2-final"
  }
 },
 "nbformat": 4,
 "nbformat_minor": 4
}
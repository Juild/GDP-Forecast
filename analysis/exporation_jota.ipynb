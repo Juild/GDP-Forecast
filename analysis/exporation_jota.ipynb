{
 "metadata": {
  "language_info": {
   "codemirror_mode": {
    "name": "ipython",
    "version": 3
   },
   "file_extension": ".py",
   "mimetype": "text/x-python",
   "name": "python",
   "nbconvert_exporter": "python",
   "pygments_lexer": "ipython3",
   "version": "3.8.2-final"
  },
  "orig_nbformat": 2,
  "kernelspec": {
   "name": "python3",
   "display_name": "Python 3.8.2 64-bit",
   "metadata": {
    "interpreter": {
     "hash": "5edc29c2ed010d6458d71a83433b383a96a8cbd3efe8531bc90c4b8a5b8bcec9"
    }
   }
  }
 },
 "nbformat": 4,
 "nbformat_minor": 2,
 "cells": [
  {
   "cell_type": "code",
   "execution_count": 54,
   "metadata": {},
   "outputs": [],
   "source": [
    "import sys\n",
    "sys.path.append(\"..\") # append the directory above where the databese is.\n",
    "import pandas as pd\n",
    "import numpy as np\n",
    "import sqlite3\n",
    "import time\n",
    "import numba\n",
    "%load_ext line_profiler\n",
    "### disable scientific notation in pandas\n",
    "pd.set_option('display.float_format', '{:.2f}'.format) ### display up to 2 decimal pts"
   ]
  },
  {
   "cell_type": "code",
   "execution_count": null,
   "metadata": {},
   "outputs": [],
   "source": [
    "connection = sqlite3.connect(\"../db.sqlite3\")\n",
    "cursor = connection.cursor() \n",
    "cursor.execute(\"SELECT * FROM CountryIndicators\")  \n",
    "country_list = cursor.fetchall() # we get the \n",
    "np.shape(country_list)\n",
    "print(country_list[:3]) # okay it has the same format as the table where the rows are tuples in this list"
   ]
  },
  {
   "cell_type": "code",
   "execution_count": null,
   "metadata": {},
   "outputs": [],
   "source": [
    "df = pd.DataFrame(country_list, columns=[\"CountryCode\", \"IndicatorCode\", \"Year\", \"Value\" ])"
   ]
  },
  {
   "cell_type": "code",
   "execution_count": null,
   "metadata": {},
   "outputs": [],
   "source": [
    "df_ARB = df[df[\"CountryCode\"] == \"ARB\"]\n",
    "print(df_ARB[\"IndicatorCode\"].nunique())\n",
    "df_one_ind = df_ARB[df[\"IndicatorCode\"] == \"SP.ADO.TFRT\"][[\"Year\", \"Value\"]]\n",
    "df_one_ind = df_one_ind.rename(columns={\"Value\":\"indicator\"})\n",
    "\n",
    "df_another_ind = df_ARB[df[\"IndicatorCode\"] == \"SP.POP.DPND\"][[\"Year\", \"Value\"]]\n",
    "df_another_ind = df_another_ind.rename(columns={\"Value\":\"another_indicator\"})\n",
    "df_merged = df_one_ind.merge(df_another_ind, left_on=\"Year\", right_on=\"Year\")\n",
    " #okay this works so\n",
    "print(df_merged)\n"
   ]
  },
  {
   "cell_type": "code",
   "execution_count": 81,
   "metadata": {},
   "outputs": [
    {
     "output_type": "execute_result",
     "data": {
      "text/plain": [
       "IndicatorCode\n",
       "AG.AGR.TRAC.NO    True\n",
       "Name: Year, dtype: bool"
      ]
     },
     "metadata": {},
     "execution_count": 81
    }
   ],
   "source": [
    "\n",
    "40 == df_ARB[df_ARB[\"IndicatorCode\"] == \"AG.AGR.TRAC.NO\"].groupby(\"IndicatorCode\").count()[\"Year\"]\n",
    "\n",
    "#for indicator in df_ARB[\"IndicatorCode\"]:\n",
    "    #print(indicator)"
   ]
  },
  {
   "cell_type": "code",
   "execution_count": 131,
   "metadata": {
    "tags": []
   },
   "outputs": [
    {
     "output_type": "stream",
     "text": [
      "Timer unit: 1e-06 s\n",
      "\n",
      "Total time: 39.7733 s\n",
      "File: <ipython-input-131-7f26fdef6387>\n",
      "Function: create_total_df at line 8\n",
      "\n",
      "Line #      Hits         Time  Per Hit   % Time  Line Contents\n",
      "==============================================================\n",
      "     8                                           def create_total_df(df):\n",
      "     9         1          3.0      3.0      0.0      n = 0\n",
      "    10         1       2973.0   2973.0      0.0      df_final = pd.DataFrame(df[\"Year\"])\n",
      "    11                                              # print(df_final)\n",
      "    12                                               #print(df[\"IndicatorCode\"].nunique())\n",
      "    13       625       3636.0      5.8      0.0      for indicator in df[\"IndicatorCode\"].unique():\n",
      "    14                                                   #print(f\"{indicator}\")\n",
      "    15       624    1410615.0   2260.6      3.5          if uniques(df, indicator):\n",
      "    16       374    1191715.0   3186.4      3.0              df_tmp = df[df[\"IndicatorCode\"] == f\"{indicator}\"][[\"Year\", \"Value\"]]\n",
      "    17       374     399953.0   1069.4      1.0              df_tmp = df_tmp.rename(columns={\"Value\":f\"{indicator}\"})\n",
      "    18       374   36764364.0  98300.4     92.4              df_final = df_final.merge(df_tmp, left_on=\"Year\", right_on=\"Year\")\n",
      "    19         1          1.0      1.0      0.0      return df_final"
     ],
     "name": "stdout"
    }
   ],
   "source": [
    "def uniques(df, indicator):\n",
    "    \"\"\" returns true or false if the indicator is in every year\"\"\"\n",
    "    indicator_range = np.array(df[df[\"IndicatorCode\"] == indicator][\"Year\"])\n",
    "    year_range = np.array(range(df[\"Year\"].min(), df[\"Year\"].max() + 1))\n",
    "    if len(year_range) != len(indicator_range):\n",
    "        return False\n",
    "    return True\n",
    "def create_total_df(df):\n",
    "    n = 0\n",
    "    df_final = pd.DataFrame(df[\"Year\"])\n",
    "   # print(df_final)\n",
    "    #print(df[\"IndicatorCode\"].nunique())\n",
    "    for indicator in df[\"IndicatorCode\"].unique():\n",
    "        #print(f\"{indicator}\")\n",
    "        if uniques(df, indicator):\n",
    "            df_tmp = df[df[\"IndicatorCode\"] == f\"{indicator}\"][[\"Year\", \"Value\"]]\n",
    "            df_tmp = df_tmp.rename(columns={\"Value\":f\"{indicator}\"})\n",
    "            df_final = df_final.merge(df_tmp, left_on=\"Year\", right_on=\"Year\")\n",
    "    return df_final\n",
    "\n",
    "#df_s = []\n",
    "%lprun -f create_total_df create_total_df(df_ARB[df_ARB[\"Year\"] > 1999])\n",
    "#ncountrys = df[\"CountryCode\"].nunique()\n",
    "#count = 0\n",
    "#for country in df[\"CountryCode\"].unique():\n",
    " #   s = time.time()\n",
    "  #  df_s.append(create_total_df(df[df[\"CountryCode\"] == country]))\n",
    "   # count += 1\n",
    "    #print(country)\n",
    "    #print(f\"ETA: {(time.time() - s) *(ncountrys - 1)/60} min\")\n"
   ]
  }
 ]
}
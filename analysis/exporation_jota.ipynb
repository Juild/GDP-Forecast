{
 "metadata": {
  "language_info": {
   "codemirror_mode": {
    "name": "ipython",
    "version": 3
   },
   "file_extension": ".py",
   "mimetype": "text/x-python",
   "name": "python",
   "nbconvert_exporter": "python",
   "pygments_lexer": "ipython3",
   "version": "3.8.2-final"
  },
  "orig_nbformat": 2,
  "kernelspec": {
   "name": "python3",
   "display_name": "Python 3.8.2 64-bit",
   "metadata": {
    "interpreter": {
     "hash": "5edc29c2ed010d6458d71a83433b383a96a8cbd3efe8531bc90c4b8a5b8bcec9"
    }
   }
  }
 },
 "nbformat": 4,
 "nbformat_minor": 2,
 "cells": [
  {
   "cell_type": "code",
   "execution_count": 1,
   "metadata": {},
   "outputs": [],
   "source": [
    "import sys\n",
    "sys.path.append(\"..\") # append the directory above where the databese is.\n",
    "import pandas as pd\n",
    "import numpy as np\n",
    "import sqlite3\n",
    "import time\n",
    "import numba\n",
    "%load_ext line_profiler\n",
    "### disable scientific notation in pandas\n",
    "pd.set_option('display.float_format', '{:.2f}'.format) ### display up to 2 decimal pts"
   ]
  },
  {
   "cell_type": "code",
   "execution_count": 2,
   "metadata": {},
   "outputs": [
    {
     "output_type": "stream",
     "name": "stdout",
     "text": [
      "[('ARB', 'SP.ADO.TFRT', 1960, 133.56090740552298), ('ARB', 'SP.POP.DPND', 1960, 87.7976011532547), ('ARB', 'SP.POP.DPND.OL', 1960, 6.634579191565161)]\n"
     ]
    }
   ],
   "source": [
    "connection = sqlite3.connect(\"../db.sqlite3\")\n",
    "cursor = connection.cursor() \n",
    "cursor.execute(\"SELECT * FROM CountryIndicators\")  \n",
    "country_list = cursor.fetchall() # we get the \n",
    "np.shape(country_list)\n",
    "print(country_list[:3]) # okay it has the same format as the table where the rows are tuples in this list"
   ]
  },
  {
   "cell_type": "code",
   "execution_count": 3,
   "metadata": {},
   "outputs": [],
   "source": [
    "df = pd.DataFrame(country_list, columns=[\"CountryCode\", \"IndicatorCode\", \"Year\", \"Value\" ])"
   ]
  },
  {
   "cell_type": "code",
   "execution_count": 4,
   "metadata": {},
   "outputs": [
    {
     "output_type": "stream",
     "name": "stdout",
     "text": [
      "629\n",
      "    Year  indicator  another_indicator\n",
      "0   1960     133.56              87.80\n",
      "1   1961     134.16              89.22\n",
      "2   1962     134.86              90.50\n",
      "3   1963     134.50              91.60\n",
      "4   1964     134.10              92.42\n",
      "5   1965     133.57              92.87\n",
      "6   1966     132.68              93.73\n",
      "7   1967     131.67              94.10\n",
      "8   1968     129.20              94.12\n",
      "9   1969     126.75              93.96\n",
      "10  1970     124.40              93.71\n",
      "11  1971     122.16              93.92\n",
      "12  1972     120.04              93.90\n",
      "13  1973     118.11              93.71\n",
      "14  1974     116.16              93.42\n",
      "15  1975     114.13              93.08\n",
      "16  1976     112.01              92.92\n",
      "17  1977     109.81              92.71\n",
      "18  1978     106.05              92.45\n",
      "19  1979     102.36              92.12\n",
      "20  1980      98.75              91.68\n",
      "21  1981      95.26              91.48\n",
      "22  1982      91.81              91.11\n",
      "23  1983      88.01              90.62\n",
      "24  1984      84.22              90.08\n",
      "25  1985      80.37              89.51\n",
      "26  1986      76.45              89.31\n",
      "27  1987      72.53              89.02\n",
      "28  1988      71.18              88.65\n",
      "29  1989      69.90              88.18\n",
      "30  1990      69.02              87.69\n",
      "31  1991      67.76              86.95\n",
      "32  1992      66.93              86.29\n",
      "33  1993      64.95              85.15\n",
      "34  1994      62.93              83.82\n",
      "35  1995      60.72              82.12\n",
      "36  1996      58.60              80.61\n",
      "37  1997      56.45              79.06\n",
      "38  1998      55.54              77.48\n",
      "39  1999      54.66              75.89\n",
      "40  2000      53.83              74.29\n",
      "41  2001      52.90              72.80\n",
      "42  2002      51.98              71.29\n",
      "43  2003      51.52              69.80\n",
      "44  2004      51.10              68.37\n",
      "45  2005      50.73              67.03\n",
      "46  2006      50.33              65.79\n",
      "47  2007      50.01              64.63\n",
      "48  2008      49.90              63.60\n",
      "49  2009      49.80              62.73\n",
      "50  2010      49.70              62.05\n"
     ]
    }
   ],
   "source": [
    "df_ARB = df[df[\"CountryCode\"] == \"ARB\"]\n",
    "print(df_ARB[\"IndicatorCode\"].nunique())\n",
    "df_one_ind = df_ARB[df[\"IndicatorCode\"] == \"SP.ADO.TFRT\"][[\"Year\", \"Value\"]]\n",
    "df_one_ind = df_one_ind.rename(columns={\"Value\":\"indicator\"})\n",
    "\n",
    "df_another_ind = df_ARB[df[\"IndicatorCode\"] == \"SP.POP.DPND\"][[\"Year\", \"Value\"]]\n",
    "df_another_ind = df_another_ind.rename(columns={\"Value\":\"another_indicator\"})\n",
    "df_merged = df_one_ind.merge(df_another_ind, left_on=\"Year\", right_on=\"Year\")\n",
    " #okay this works so\n",
    "print(df_merged)\n"
   ]
  },
  {
   "cell_type": "code",
   "execution_count": null,
   "metadata": {},
   "outputs": [],
   "source": [
    "\n",
    "df_ARB[df_ARB[\"IndicatorCode\"] == \"AG.AGR.TRAC.NO\"]\n",
    "#for indicator in df_ARB[\"IndicatorCode\"]:\n",
    "    #print(indicator)"
   ]
  },
  {
   "cell_type": "code",
   "execution_count": 9,
   "metadata": {
    "tags": []
   },
   "outputs": [
    {
     "output_type": "error",
     "ename": "TypeError",
     "evalue": "merge() got multiple values for argument 'how'",
     "traceback": [
      "\u001b[0;31m---------------------------------------------------------------------------\u001b[0m",
      "\u001b[0;31mTypeError\u001b[0m                                 Traceback (most recent call last)",
      "\u001b[0;32m<ipython-input-9-7ac6b9c867f3>\u001b[0m in \u001b[0;36m<module>\u001b[0;34m\u001b[0m\n\u001b[1;32m     21\u001b[0m \u001b[0;34m\u001b[0m\u001b[0m\n\u001b[1;32m     22\u001b[0m \u001b[0;31m#df_s = []\u001b[0m\u001b[0;34m\u001b[0m\u001b[0;34m\u001b[0m\u001b[0;34m\u001b[0m\u001b[0m\n\u001b[0;32m---> 23\u001b[0;31m \u001b[0mget_ipython\u001b[0m\u001b[0;34m(\u001b[0m\u001b[0;34m)\u001b[0m\u001b[0;34m.\u001b[0m\u001b[0mrun_line_magic\u001b[0m\u001b[0;34m(\u001b[0m\u001b[0;34m'lprun'\u001b[0m\u001b[0;34m,\u001b[0m \u001b[0;34m'-f create_total_df create_total_df(df_ARB[df_ARB[\"Year\"] == 2010])'\u001b[0m\u001b[0;34m)\u001b[0m\u001b[0;34m\u001b[0m\u001b[0;34m\u001b[0m\u001b[0m\n\u001b[0m\u001b[1;32m     24\u001b[0m \u001b[0;31m#ncountrys = df[\"CountryCode\"].nunique()\u001b[0m\u001b[0;34m\u001b[0m\u001b[0;34m\u001b[0m\u001b[0;34m\u001b[0m\u001b[0m\n\u001b[1;32m     25\u001b[0m \u001b[0;31m#count = 0\u001b[0m\u001b[0;34m\u001b[0m\u001b[0;34m\u001b[0m\u001b[0;34m\u001b[0m\u001b[0m\n",
      "\u001b[0;32m/Library/Python/3.8/site-packages/IPython/core/interactiveshell.py\u001b[0m in \u001b[0;36mrun_line_magic\u001b[0;34m(self, magic_name, line, _stack_depth)\u001b[0m\n\u001b[1;32m   2325\u001b[0m                 \u001b[0mkwargs\u001b[0m\u001b[0;34m[\u001b[0m\u001b[0;34m'local_ns'\u001b[0m\u001b[0;34m]\u001b[0m \u001b[0;34m=\u001b[0m \u001b[0mself\u001b[0m\u001b[0;34m.\u001b[0m\u001b[0mget_local_scope\u001b[0m\u001b[0;34m(\u001b[0m\u001b[0mstack_depth\u001b[0m\u001b[0;34m)\u001b[0m\u001b[0;34m\u001b[0m\u001b[0;34m\u001b[0m\u001b[0m\n\u001b[1;32m   2326\u001b[0m             \u001b[0;32mwith\u001b[0m \u001b[0mself\u001b[0m\u001b[0;34m.\u001b[0m\u001b[0mbuiltin_trap\u001b[0m\u001b[0;34m:\u001b[0m\u001b[0;34m\u001b[0m\u001b[0;34m\u001b[0m\u001b[0m\n\u001b[0;32m-> 2327\u001b[0;31m                 \u001b[0mresult\u001b[0m \u001b[0;34m=\u001b[0m \u001b[0mfn\u001b[0m\u001b[0;34m(\u001b[0m\u001b[0;34m*\u001b[0m\u001b[0margs\u001b[0m\u001b[0;34m,\u001b[0m \u001b[0;34m**\u001b[0m\u001b[0mkwargs\u001b[0m\u001b[0;34m)\u001b[0m\u001b[0;34m\u001b[0m\u001b[0;34m\u001b[0m\u001b[0m\n\u001b[0m\u001b[1;32m   2328\u001b[0m             \u001b[0;32mreturn\u001b[0m \u001b[0mresult\u001b[0m\u001b[0;34m\u001b[0m\u001b[0;34m\u001b[0m\u001b[0m\n\u001b[1;32m   2329\u001b[0m \u001b[0;34m\u001b[0m\u001b[0m\n",
      "\u001b[0;32m<decorator-gen-117>\u001b[0m in \u001b[0;36mlprun\u001b[0;34m(self, parameter_s)\u001b[0m\n",
      "\u001b[0;32m/Library/Python/3.8/site-packages/IPython/core/magic.py\u001b[0m in \u001b[0;36m<lambda>\u001b[0;34m(f, *a, **k)\u001b[0m\n\u001b[1;32m    185\u001b[0m     \u001b[0;31m# but it's overkill for just that one bit of state.\u001b[0m\u001b[0;34m\u001b[0m\u001b[0;34m\u001b[0m\u001b[0;34m\u001b[0m\u001b[0m\n\u001b[1;32m    186\u001b[0m     \u001b[0;32mdef\u001b[0m \u001b[0mmagic_deco\u001b[0m\u001b[0;34m(\u001b[0m\u001b[0marg\u001b[0m\u001b[0;34m)\u001b[0m\u001b[0;34m:\u001b[0m\u001b[0;34m\u001b[0m\u001b[0;34m\u001b[0m\u001b[0m\n\u001b[0;32m--> 187\u001b[0;31m         \u001b[0mcall\u001b[0m \u001b[0;34m=\u001b[0m \u001b[0;32mlambda\u001b[0m \u001b[0mf\u001b[0m\u001b[0;34m,\u001b[0m \u001b[0;34m*\u001b[0m\u001b[0ma\u001b[0m\u001b[0;34m,\u001b[0m \u001b[0;34m**\u001b[0m\u001b[0mk\u001b[0m\u001b[0;34m:\u001b[0m \u001b[0mf\u001b[0m\u001b[0;34m(\u001b[0m\u001b[0;34m*\u001b[0m\u001b[0ma\u001b[0m\u001b[0;34m,\u001b[0m \u001b[0;34m**\u001b[0m\u001b[0mk\u001b[0m\u001b[0;34m)\u001b[0m\u001b[0;34m\u001b[0m\u001b[0;34m\u001b[0m\u001b[0m\n\u001b[0m\u001b[1;32m    188\u001b[0m \u001b[0;34m\u001b[0m\u001b[0m\n\u001b[1;32m    189\u001b[0m         \u001b[0;32mif\u001b[0m \u001b[0mcallable\u001b[0m\u001b[0;34m(\u001b[0m\u001b[0marg\u001b[0m\u001b[0;34m)\u001b[0m\u001b[0;34m:\u001b[0m\u001b[0;34m\u001b[0m\u001b[0;34m\u001b[0m\u001b[0m\n",
      "\u001b[0;32m~/Library/Python/3.8/lib/python/site-packages/line_profiler/line_profiler.py\u001b[0m in \u001b[0;36mlprun\u001b[0;34m(self, parameter_s)\u001b[0m\n\u001b[1;32m    361\u001b[0m         \u001b[0;32mtry\u001b[0m\u001b[0;34m:\u001b[0m\u001b[0;34m\u001b[0m\u001b[0;34m\u001b[0m\u001b[0m\n\u001b[1;32m    362\u001b[0m             \u001b[0;32mtry\u001b[0m\u001b[0;34m:\u001b[0m\u001b[0;34m\u001b[0m\u001b[0;34m\u001b[0m\u001b[0m\n\u001b[0;32m--> 363\u001b[0;31m                 \u001b[0mprofile\u001b[0m\u001b[0;34m.\u001b[0m\u001b[0mrunctx\u001b[0m\u001b[0;34m(\u001b[0m\u001b[0marg_str\u001b[0m\u001b[0;34m,\u001b[0m \u001b[0mglobal_ns\u001b[0m\u001b[0;34m,\u001b[0m \u001b[0mlocal_ns\u001b[0m\u001b[0;34m)\u001b[0m\u001b[0;34m\u001b[0m\u001b[0;34m\u001b[0m\u001b[0m\n\u001b[0m\u001b[1;32m    364\u001b[0m                 \u001b[0mmessage\u001b[0m \u001b[0;34m=\u001b[0m \u001b[0;34m''\u001b[0m\u001b[0;34m\u001b[0m\u001b[0;34m\u001b[0m\u001b[0m\n\u001b[1;32m    365\u001b[0m             \u001b[0;32mexcept\u001b[0m \u001b[0mSystemExit\u001b[0m\u001b[0;34m:\u001b[0m\u001b[0;34m\u001b[0m\u001b[0;34m\u001b[0m\u001b[0m\n",
      "\u001b[0;32m~/Library/Python/3.8/lib/python/site-packages/line_profiler/line_profiler.py\u001b[0m in \u001b[0;36mrunctx\u001b[0;34m(self, cmd, globals, locals)\u001b[0m\n\u001b[1;32m    156\u001b[0m         \u001b[0mself\u001b[0m\u001b[0;34m.\u001b[0m\u001b[0menable_by_count\u001b[0m\u001b[0;34m(\u001b[0m\u001b[0;34m)\u001b[0m\u001b[0;34m\u001b[0m\u001b[0;34m\u001b[0m\u001b[0m\n\u001b[1;32m    157\u001b[0m         \u001b[0;32mtry\u001b[0m\u001b[0;34m:\u001b[0m\u001b[0;34m\u001b[0m\u001b[0;34m\u001b[0m\u001b[0m\n\u001b[0;32m--> 158\u001b[0;31m             \u001b[0mexec_\u001b[0m\u001b[0;34m(\u001b[0m\u001b[0mcmd\u001b[0m\u001b[0;34m,\u001b[0m \u001b[0mglobals\u001b[0m\u001b[0;34m,\u001b[0m \u001b[0mlocals\u001b[0m\u001b[0;34m)\u001b[0m\u001b[0;34m\u001b[0m\u001b[0;34m\u001b[0m\u001b[0m\n\u001b[0m\u001b[1;32m    159\u001b[0m         \u001b[0;32mfinally\u001b[0m\u001b[0;34m:\u001b[0m\u001b[0;34m\u001b[0m\u001b[0;34m\u001b[0m\u001b[0m\n\u001b[1;32m    160\u001b[0m             \u001b[0mself\u001b[0m\u001b[0;34m.\u001b[0m\u001b[0mdisable_by_count\u001b[0m\u001b[0;34m(\u001b[0m\u001b[0;34m)\u001b[0m\u001b[0;34m\u001b[0m\u001b[0;34m\u001b[0m\u001b[0m\n",
      "\u001b[0;32m<string>\u001b[0m in \u001b[0;36m<module>\u001b[0;34m\u001b[0m\n",
      "\u001b[0;32m<ipython-input-9-7ac6b9c867f3>\u001b[0m in \u001b[0;36mcreate_total_df\u001b[0;34m(df)\u001b[0m\n\u001b[1;32m     16\u001b[0m         \u001b[0mdf_tmp\u001b[0m \u001b[0;34m=\u001b[0m \u001b[0mdf\u001b[0m\u001b[0;34m[\u001b[0m\u001b[0mdf\u001b[0m\u001b[0;34m[\u001b[0m\u001b[0;34m\"IndicatorCode\"\u001b[0m\u001b[0;34m]\u001b[0m \u001b[0;34m==\u001b[0m \u001b[0mindicator\u001b[0m\u001b[0;34m]\u001b[0m\u001b[0;34m[\u001b[0m\u001b[0;34m[\u001b[0m\u001b[0;34m\"Year\"\u001b[0m\u001b[0;34m,\u001b[0m \u001b[0;34m\"Value\"\u001b[0m\u001b[0;34m]\u001b[0m\u001b[0;34m]\u001b[0m\u001b[0;34m\u001b[0m\u001b[0;34m\u001b[0m\u001b[0m\n\u001b[1;32m     17\u001b[0m         \u001b[0mdf_tmp\u001b[0m \u001b[0;34m=\u001b[0m \u001b[0mdf_tmp\u001b[0m\u001b[0;34m.\u001b[0m\u001b[0mrename\u001b[0m\u001b[0;34m(\u001b[0m\u001b[0mcolumns\u001b[0m\u001b[0;34m=\u001b[0m\u001b[0;34m{\u001b[0m\u001b[0;34m\"Value\"\u001b[0m\u001b[0;34m:\u001b[0m\u001b[0;34mf\"{indicator}\"\u001b[0m\u001b[0;34m}\u001b[0m\u001b[0;34m)\u001b[0m\u001b[0;34m\u001b[0m\u001b[0;34m\u001b[0m\u001b[0m\n\u001b[0;32m---> 18\u001b[0;31m         \u001b[0mdf_final\u001b[0m \u001b[0;34m=\u001b[0m \u001b[0mpd\u001b[0m\u001b[0;34m.\u001b[0m\u001b[0mmerge\u001b[0m\u001b[0;34m(\u001b[0m\u001b[0mdf_final\u001b[0m\u001b[0;34m,\u001b[0m \u001b[0mdf_tmp\u001b[0m\u001b[0;34m,\u001b[0m \u001b[0;34m\"Year\"\u001b[0m\u001b[0;34m,\u001b[0m \u001b[0mhow\u001b[0m\u001b[0;34m=\u001b[0m\u001b[0;34m\"outer\"\u001b[0m\u001b[0;34m)\u001b[0m\u001b[0;34m\u001b[0m\u001b[0;34m\u001b[0m\u001b[0m\n\u001b[0m\u001b[1;32m     19\u001b[0m         \u001b[0mprint\u001b[0m\u001b[0;34m(\u001b[0m\u001b[0mindicator\u001b[0m\u001b[0;34m)\u001b[0m\u001b[0;34m\u001b[0m\u001b[0;34m\u001b[0m\u001b[0m\n\u001b[1;32m     20\u001b[0m     \u001b[0;32mreturn\u001b[0m \u001b[0mdf_final\u001b[0m\u001b[0;34m\u001b[0m\u001b[0;34m\u001b[0m\u001b[0m\n",
      "\u001b[0;31mTypeError\u001b[0m: merge() got multiple values for argument 'how'"
     ]
    }
   ],
   "source": [
    "#def uniques(df, indicator):\n",
    "    #\"\"\" returns true or false if the indicator is in every year\"\"\"\n",
    "    #indicator_range = np.array(df[df[\"IndicatorCode\"] == indicator][\"Year\"])\n",
    "    #year_range = np.array(range(df[\"Year\"].min(), df[\"Year\"].max() + 1))\n",
    "    #if len(year_range) != len(indicator_range):\n",
    "     #   return False\n",
    "    #return True\n",
    "def create_total_df(df):\n",
    "    df_final = pd.DataFrame(df[\"Year\"])\n",
    "   # print(df_final)\n",
    "    #print(df[\"IndicatorCode\"].nunique())\n",
    "    for indicator in df[\"IndicatorCode\"].unique():\n",
    "        #print(f\"{indicator}\")\n",
    "        #if uniques(df, indicator):\n",
    "        df_tmp = df[df[\"IndicatorCode\"] == indicator][[\"Year\", \"Value\"]]\n",
    "        df_tmp = df_tmp.rename(columns={\"Value\":indicator})\n",
    "        df_final = pd.merge(df_final, df_tmp, \"Year\", how=\"outer\")\n",
    "        print(indicator)\n",
    "    return df_final\n",
    "\n",
    "#df_s = []\n",
    "%lprun -f create_total_df create_total_df(df_ARB[df_ARB[\"Year\"] == 2010])\n",
    "#ncountrys = df[\"CountryCode\"].nunique()\n",
    "#count = 0\n",
    "#for country in df[\"CountryCode\"].unique():\n",
    " #   s = time.time()\n",
    "  #  df_s.append(create_total_df(df[df[\"CountryCode\"] == country]))\n",
    "   # count += 1\n",
    "    #print(country)\n",
    "    #print(f\"ETA: {(time.time() - s) *(ncountrys - 1)/60} min\")\n"
   ]
  },
  {
   "cell_type": "code",
   "execution_count": null,
   "metadata": {
    "tags": []
   },
   "outputs": [],
   "source": [
    "def create_country_df(df_country):\n",
    "    country_dict = {indicator:[] for indicator in df_country[\"IndicatorCode\"].unique()}\n",
    "    country_dict[\"Year\"] = list(df_country[\"Year\"].unique())\n",
    "    for year in df_country[\"Year\"].unique():\n",
    "        for indicator in df_country[\"IndicatorCode\"].unique():\n",
    "            # this will output the indicator value for a given year\n",
    "            df_tmp = df_country[(df_country[\"IndicatorCode\"] == indicator) & (df_country[\"Year\"] == year)][\"Value\"] \n",
    "            # if there is no indicator value for that year, then we add NA                              \n",
    "            if df_tmp.empty:\n",
    "                country_dict[indicator].append(\"NA\")\n",
    "            else:\n",
    "                country_dict[indicator].append(df_tmp.to_list()[0]) # fix this is really ugly!!\n",
    "        print(year)\n",
    "    return pd.DataFrame(country_dict)\n",
    "%lprun -f create_country_df create_country_df(df_ARB)"
   ]
  },
  {
   "cell_type": "code",
   "execution_count": null,
   "metadata": {},
   "outputs": [],
   "source": [
    "def create_country_df(df_country):\n",
    "    country_dict = {indicator:[] for indicator in df_country[\"IndicatorCode\"].unique()}\n",
    "    country_dict[\"Year\"] = list(df_country[\"Year\"].unique())\n",
    "    for year in df_country[\"Year\"].unique():\n",
    "        for indicator in df_country[\"IndicatorCode\"].unique():\n",
    "            # this will output the indicator value for a given year\n",
    "            df_tmp = df_country[(df_country[\"IndicatorCode\"] == indicator) & (df_country[\"Year\"] == year)][\"Value\"] \n",
    "            # if there is no indicator value for that year, then we add NA                              \n",
    "            if df_tmp.empty:\n",
    "                country_dict[indicator].append(\"NA\")\n",
    "            else:\n",
    "                country_dict[indicator].append(df_tmp.to_list()[0]) # fix this is really ugly!!\n",
    "        print(year)\n",
    "    return pd.DataFrame(country_dict)"
   ]
  }
 ]
}